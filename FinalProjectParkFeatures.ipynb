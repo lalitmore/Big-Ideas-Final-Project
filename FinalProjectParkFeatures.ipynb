{
 "cells": [
  {
   "cell_type": "markdown",
   "id": "ede0dce3-ec2f-4fc5-979c-efdc2a75794b",
   "metadata": {},
   "source": [
    "Metric 2: Number of Park Facility Features [Michael Puthumana]\n",
    "The goal behind using this metric was to see the amount of options available within neighborhoods for recreation\r\n",
    "\r\n",
    "About the dataet setI used one data set containing all the features of park facility features. Each feature is separated based on type of feature and park center. Due to a lack of zipcodes or addresses in the data set, I have to extract all the unique center names from the data set and map them to their respective neighborhod.\n",
    "\n",
    "Park Feareet Data SeLink: Lihttps://data.wprdc.org/dataset/allegheny-county-park-features/resource/9bd66142-ffbe-4342-9ed8-d2a11dcce60f\n",
    "\n",
    "Park Center Neighborhood Locations were identified by Google searches"
   ]
  },
  {
   "cell_type": "code",
   "execution_count": 37,
   "id": "cbdd1e80-3290-4b8a-a28b-a2d3a44fb07b",
   "metadata": {},
   "outputs": [
    {
     "name": "stdout",
     "output_type": "stream",
     "text": [
      "                        Number of Park Features per Neighborhood\n",
      "neighborhood                                                    \n",
      "Hampton Township                                             191\n",
      "McCandless Township                                          175\n",
      "Pine Township                                                175\n",
      "Bethel Township                                              160\n",
      "South Park Township                                          160\n",
      "Monroeville Township                                          49\n",
      "Plum Township                                                 49\n",
      "McKeesport Township                                           43\n",
      "Collier Township                                              36\n",
      "North Fayette Township                                        36\n",
      "Robinson Township                                             36\n",
      "Frazer Township                                               33\n",
      "West Deer Township                                            33\n",
      "Harrison Township                                             31\n",
      "Elizabeth Township                                            20\n",
      "Indiana Township                                              16\n"
     ]
    }
   ],
   "source": [
    "import pandas as pd\n",
    "import numpy as np\n",
    "\n",
    "df = pd.read_csv(\"parkFeatureData.csv\")\n",
    "\n",
    "# Extract all park names\n",
    "unique_centers = df['center'].unique()\n",
    "unique_centers_list = unique_centers.tolist()\n",
    "#print(\"Unique center names:\", unique_centers_list)\n",
    "\n",
    "#swap centers to neighborhood for graphing\n",
    "center_to_neighborhood = {\n",
    "    'Boyce Park': ['Monroeville Township','Plum Township'],\n",
    "    'Hartwood Acres Park': ['Hampton Township','Indiana Township'],\n",
    "    'Harrison Hills Park': 'Harrison Township',\n",
    "    'North Park': ['Hampton Township','McCandless Township','Pine Township'],\n",
    "    'Round Hill Park': 'Elizabeth Township',\n",
    "    \"Settler's Cabin Park\":['Collier Township','North Fayette Township','Robinson Township'],\n",
    "    'South Park':['Bethel Township','South Park Township'],\n",
    "    'White Oak Park':'McKeesport Township',\n",
    "    'Deer Lakes Park':['Frazer Township','West Deer Township']\n",
    "}\n",
    "\n",
    "#create dataframe for counts\n",
    "df['neighborhood'] = df['center'].map(center_to_neighborhood)\n",
    "\n",
    "#separate lists into individual neighborhood counts\n",
    "df = df.explode('neighborhood')\n",
    "\n",
    "count = df['neighborhood'].value_counts()\n",
    "neighborhood_counts_df = pd.DataFrame(count)\n",
    "neighborhood_counts_df.columns = ['Number of Park Features per Neighborhood']\n",
    "print(neighborhood_counts_df)"
   ]
  },
  {
   "cell_type": "code",
   "execution_count": null,
   "id": "9af775ec-90d2-4eea-9074-285b40636165",
   "metadata": {},
   "outputs": [],
   "source": []
  }
 ],
 "metadata": {
  "kernelspec": {
   "display_name": "Python 3 (ipykernel)",
   "language": "python",
   "name": "python3"
  },
  "language_info": {
   "codemirror_mode": {
    "name": "ipython",
    "version": 3
   },
   "file_extension": ".py",
   "mimetype": "text/x-python",
   "name": "python",
   "nbconvert_exporter": "python",
   "pygments_lexer": "ipython3",
   "version": "3.12.4"
  }
 },
 "nbformat": 4,
 "nbformat_minor": 5
}
